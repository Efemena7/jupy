{
 "cells": [
  {
   "cell_type": "code",
   "execution_count": 1,
   "id": "39891bd5",
   "metadata": {},
   "outputs": [
    {
     "ename": "SyntaxError",
     "evalue": "invalid syntax (1606022846.py, line 3)",
     "output_type": "error",
     "traceback": [
      "\u001b[1;36m  Input \u001b[1;32mIn [1]\u001b[1;36m\u001b[0m\n\u001b[1;33m    if name.lower().startswith(\"c\") or if name.lower().startswith(\"p\") :\u001b[0m\n\u001b[1;37m                                       ^\u001b[0m\n\u001b[1;31mSyntaxError\u001b[0m\u001b[1;31m:\u001b[0m invalid syntax\n"
     ]
    }
   ],
   "source": [
    "name=input('Enter your name: ')\n",
    "salary=float(input('Enter Salary: '))\n",
    "if name.lower().startswith(\"c\"):\n",
    "    print(f\"{name}, you don't have any bonus. hence you're to receive {salary}\")\n",
    "else:\n",
    "    bonus=0.1*salary\n",
    "    new_salary=salary+bonus\n",
    "    print(f\"{name}, your bonus is {bonus}\")\n",
    "    print(f\"your basic salary is {salary}\")\n",
    "    print(f\"you are receiving {new_salary}\")"
   ]
  },
  {
   "cell_type": "markdown",
   "id": "b0507eb4",
   "metadata": {},
   "source": [
    "# Question 1"
   ]
  },
  {
   "cell_type": "code",
   "execution_count": 7,
   "id": "43f7d04f",
   "metadata": {},
   "outputs": [
    {
     "name": "stdout",
     "output_type": "stream",
     "text": [
      "Enter your name: keb\n",
      "Enter Salary: 58000000\n",
      "keb, your bonus is 5800000.0\n",
      "your basic salary is 58000000.0\n",
      "you are receiving 63800000.0\n"
     ]
    }
   ],
   "source": [
    "name=input('Enter your name: ')\n",
    "salary=float(input('Enter Salary: '))\n",
    "if name.lower().startswith(\"c\"):\n",
    "    print(f\"{name}, you don't have any bonus. hence you're to receive {salary}\")\n",
    "elif name.lower().startswith(\"p\"):\n",
    "    print(f\"{name}, you don't have any bonus. hence you're to receive {salary}\")\n",
    "else:\n",
    "    bonus=0.1*salary\n",
    "    new_salary=salary+bonus\n",
    "    print(f\"{name}, your bonus is {bonus}\")\n",
    "    print(f\"your basic salary is {salary}\")\n",
    "    print(f\"you are receiving {new_salary}\")"
   ]
  },
  {
   "cell_type": "markdown",
   "id": "0e749980",
   "metadata": {},
   "source": [
    "# Question 2"
   ]
  },
  {
   "cell_type": "code",
   "execution_count": 15,
   "id": "3c029dee",
   "metadata": {},
   "outputs": [
    {
     "name": "stdout",
     "output_type": "stream",
     "text": [
      "Enter Score: 68\n",
      "B\n"
     ]
    }
   ],
   "source": [
    "grade=float(input(\"Enter Score: \"))\n",
    "if grade > 70:\n",
    "    print('A')\n",
    "elif grade > 60:\n",
    "    print('B')\n",
    "elif grade > 50:\n",
    "    print('C')\n",
    "elif grade > 40:\n",
    "    print('D')\n",
    "elif grade > 30:\n",
    "    print ('E')\n",
    "else:\n",
    "    print(\"F\")"
   ]
  },
  {
   "cell_type": "markdown",
   "id": "e4f0848c",
   "metadata": {},
   "source": [
    "# Question 3"
   ]
  },
  {
   "cell_type": "code",
   "execution_count": 21,
   "id": "c8edb196",
   "metadata": {},
   "outputs": [
    {
     "name": "stdout",
     "output_type": "stream",
     "text": [
      "Enter Number: 4\n",
      "The Number is even\n"
     ]
    }
   ],
   "source": [
    "number=float(input(\"Enter Number: \"))\n",
    "if number % 2 == 0:\n",
    "    print(\"The Number is even\")\n",
    "else:\n",
    "    print(\"The Number is odd\")"
   ]
  },
  {
   "cell_type": "markdown",
   "id": "17fe0a7c",
   "metadata": {},
   "source": [
    "# Question 4"
   ]
  },
  {
   "cell_type": "code",
   "execution_count": 28,
   "id": "efa739fd",
   "metadata": {},
   "outputs": [
    {
     "name": "stdout",
     "output_type": "stream",
     "text": [
      "Enter Number of Side: 11\n",
      "Out of reach\n"
     ]
    }
   ],
   "source": [
    "side=int(input(\"Enter Number of Side: \"))\n",
    "if side == 3:\n",
    "    print('Triangle')\n",
    "elif side == 4:\n",
    "    print('Quadrilateral')\n",
    "elif side == 5:\n",
    "    print('Pentagon')\n",
    "elif side == 6:\n",
    "    print('Hexagon')\n",
    "elif side == 8:\n",
    "    print('Octagon')\n",
    "elif side == 7:\n",
    "    print('Heptagon')\n",
    "elif side == 9:\n",
    "    print('Nonagon')\n",
    "elif side == 10:\n",
    "    print('Decagon')\n",
    "else:\n",
    "    print(\"Out of reach\")\n",
    "    "
   ]
  }
 ],
 "metadata": {
  "kernelspec": {
   "display_name": "Python 3 (ipykernel)",
   "language": "python",
   "name": "python3"
  },
  "language_info": {
   "codemirror_mode": {
    "name": "ipython",
    "version": 3
   },
   "file_extension": ".py",
   "mimetype": "text/x-python",
   "name": "python",
   "nbconvert_exporter": "python",
   "pygments_lexer": "ipython3",
   "version": "3.9.12"
  }
 },
 "nbformat": 4,
 "nbformat_minor": 5
}
